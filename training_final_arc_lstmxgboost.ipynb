{
 "cells": [
  {
   "cell_type": "code",
   "execution_count": 2,
   "id": "fc89fcf2-63eb-4c5f-83d0-a8e8a7a3bf53",
   "metadata": {},
   "outputs": [
    {
     "name": "stderr",
     "output_type": "stream",
     "text": [
      "WARNING:absl:Compiled the loaded model, but the compiled metrics have yet to be built. `model.compile_metrics` will be empty until you train or evaluate the model.\n"
     ]
    },
    {
     "name": "stdout",
     "output_type": "stream",
     "text": [
      "\u001b[1m4779/4779\u001b[0m \u001b[32m━━━━━━━━━━━━━━━━━━━━\u001b[0m\u001b[37m\u001b[0m \u001b[1m5s\u001b[0m 888us/step\n",
      "\u001b[1m612/612\u001b[0m \u001b[32m━━━━━━━━━━━━━━━━━━━━\u001b[0m\u001b[37m\u001b[0m \u001b[1m1s\u001b[0m 1ms/step  \n",
      "XGBoost Model Accuracy (Using LSTM Features): 94.45%\n",
      "Classification Report (XGBoost):\n",
      "               precision    recall  f1-score   support\n",
      "\n",
      "           0       0.99      0.90      0.95      9558\n",
      "           1       0.80      0.95      0.87      1145\n",
      "           2       0.78      0.99      0.87      2302\n",
      "           3       0.99      0.99      0.99      6557\n",
      "\n",
      "    accuracy                           0.94     19562\n",
      "   macro avg       0.89      0.96      0.92     19562\n",
      "weighted avg       0.95      0.94      0.95     19562\n",
      "\n",
      "XGBoost model saved as xgboost_lstm_model.json\n"
     ]
    }
   ],
   "source": [
    "import xgboost as xgb\n",
    "from sklearn.metrics import accuracy_score, classification_report\n",
    "import numpy as np\n",
    "import tensorflow as tf\n",
    "\n",
    "# Load processed train-test datasets\n",
    "X_train = np.load(\"X_train.npy\")\n",
    "y_train = np.load(\"y_train.npy\")\n",
    "X_test = np.load(\"X_test.npy\")\n",
    "y_test = np.load(\"y_test.npy\")\n",
    "\n",
    "# Load trained BiLSTM Model\n",
    "bilstm_model = tf.keras.models.load_model(\"bilstm_alarm_model.h5\")\n",
    "\n",
    "# **Pastikan input memiliki format (samples, timesteps, features)**\n",
    "X_train = X_train.reshape((X_train.shape[0], 1, X_train.shape[1]))\n",
    "X_test = X_test.reshape((X_test.shape[0], 1, X_test.shape[1]))\n",
    "\n",
    "# Extract LSTM Features for XGBoost\n",
    "lstm_features_train = bilstm_model.predict(X_train)  # Sekarang dalam format (samples, 32)\n",
    "lstm_features_test = bilstm_model.predict(X_test)\n",
    "\n",
    "# Train XGBoost Classifier\n",
    "xgb_model = xgb.XGBClassifier(n_estimators=100, max_depth=5, learning_rate=0.1, objective='multi:softmax', num_class=4)\n",
    "xgb_model.fit(lstm_features_train, y_train)\n",
    "\n",
    "# Predict with XGBoost\n",
    "y_pred_xgb = xgb_model.predict(lstm_features_test)\n",
    "accuracy_xgb = accuracy_score(y_test, y_pred_xgb)\n",
    "print(f\"XGBoost Model Accuracy (Using LSTM Features): {accuracy_xgb * 100:.2f}%\")\n",
    "print(\"Classification Report (XGBoost):\\n\", classification_report(y_test, y_pred_xgb))\n",
    "\n",
    "# Save XGBoost Model\n",
    "xgb_model.save_model(\"xgboost_lstm_model.json\")\n",
    "print(\"XGBoost model saved as xgboost_lstm_model.json\")\n"
   ]
  },
  {
   "cell_type": "code",
   "execution_count": null,
   "id": "8f0e9b2e-a01f-4d62-8044-dbf12af9d87a",
   "metadata": {},
   "outputs": [],
   "source": []
  }
 ],
 "metadata": {
  "kernelspec": {
   "display_name": "Python 3 (ipykernel)",
   "language": "python",
   "name": "python3"
  },
  "language_info": {
   "codemirror_mode": {
    "name": "ipython",
    "version": 3
   },
   "file_extension": ".py",
   "mimetype": "text/x-python",
   "name": "python",
   "nbconvert_exporter": "python",
   "pygments_lexer": "ipython3",
   "version": "3.10.12"
  }
 },
 "nbformat": 4,
 "nbformat_minor": 5
}
